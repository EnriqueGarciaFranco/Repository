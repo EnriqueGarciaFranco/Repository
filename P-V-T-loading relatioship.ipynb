{
 "cells": [
  {
   "cell_type": "code",
   "execution_count": 1,
   "metadata": {},
   "outputs": [],
   "source": [
    "from reaktoro import *\n",
    "\n",
    "from IPython.core.display import display, HTML, Image  "
   ]
  },
  {
   "cell_type": "markdown",
   "metadata": {},
   "source": [
    "__Isochoric calculations: P-V-T-loading relationship__\n",
    "\n",
    "__Enrique Garcia Franco, UNIZAR__\n"
   ]
  },
  {
   "cell_type": "code",
   "execution_count": 2,
   "metadata": {},
   "outputs": [
    {
     "data": {
      "text/html": [
       "<img src=\"https://upload.wikimedia.org/wikipedia/commons/1/1e/Pressure_cooker_clip_art.png\" width=\"600\"/>"
      ],
      "text/plain": [
       "<IPython.core.display.Image object>"
      ]
     },
     "execution_count": 2,
     "metadata": {},
     "output_type": "execute_result"
    }
   ],
   "source": [
    "Image(url= \"https://upload.wikimedia.org/wikipedia/commons/1/1e/Pressure_cooker_clip_art.png\", width = 600)"
   ]
  },
  {
   "cell_type": "markdown",
   "metadata": {},
   "source": [
    "__SYSTEM DEFINITION: species, loading, room temperature and pressure__\n",
    "\n",
    "_The can coke is closed to the surroundings and the gases exert pressure on the walls of the container_"
   ]
  },
  {
   "cell_type": "code",
   "execution_count": 3,
   "metadata": {},
   "outputs": [],
   "source": [
    "solvent = 'H2O'\n",
    "solute = 'NaCl'\n",
    "inert = 'N2'"
   ]
  },
  {
   "cell_type": "code",
   "execution_count": 4,
   "metadata": {},
   "outputs": [],
   "source": [
    "T = 150 #C\n",
    "\n",
    "T = T + 273.15 #K"
   ]
  },
  {
   "cell_type": "code",
   "execution_count": 5,
   "metadata": {},
   "outputs": [],
   "source": [
    "m_solvent = 400 #g\n",
    "m_solute = 10 #g\n",
    "m_units = 'g'\n",
    "\n",
    "n_inert = 0.05 #mol\n",
    "n_units = 'mol'"
   ]
  },
  {
   "cell_type": "code",
   "execution_count": 6,
   "metadata": {},
   "outputs": [],
   "source": [
    "V_cooker = 2 #L\n",
    "\n",
    "V_cooker_m3 = V_cooker/1000 #m3"
   ]
  },
  {
   "cell_type": "markdown",
   "metadata": {},
   "source": [
    "__EQUILIBRUM CALCULATION__\n",
    "\n",
    "_To solve for the system defined before, it is necessary to define the problem and solve for the combination of Temperature, and a tentative Exerted Pressure_\n",
    "\n",
    "_Reaktoro will then minimize Gibbs Free Energy of the system_"
   ]
  },
  {
   "cell_type": "code",
   "execution_count": 7,
   "metadata": {},
   "outputs": [],
   "source": [
    "#Initialize a thermodynamic database\n",
    "    \n",
    "db = Database('supcrt98.xml')"
   ]
  },
  {
   "cell_type": "code",
   "execution_count": 8,
   "metadata": {},
   "outputs": [
    {
     "data": {
      "text/plain": [
       "<reaktoro.PyReaktoro.GaseousPhase at 0x21aec2ac170>"
      ]
     },
     "execution_count": 8,
     "metadata": {},
     "output_type": "execute_result"
    }
   ],
   "source": [
    "#Define the chemical system\n",
    "\n",
    "editor = ChemicalEditor(db)\n",
    "    \n",
    "editor.addAqueousPhase(\"Na+ Cl- H2O(l) H+ OH-\")\n",
    "    \n",
    "editor.addGaseousPhase(\"H2O(g) N2(g)\")"
   ]
  },
  {
   "cell_type": "code",
   "execution_count": 9,
   "metadata": {},
   "outputs": [],
   "source": [
    "#Construct the chemical system and implement loading\n",
    "    \n",
    "system = ChemicalSystem(editor)\n",
    "    \n",
    "    \n",
    "# Define the chemical equilibrium problem\n",
    "\n",
    "problem = EquilibriumProblem(system)\n",
    "\n",
    "T_units = 'K'\n",
    "    \n",
    "problem.setTemperature(T, T_units)\n",
    "\n",
    "P_iter = 3\n",
    "\n",
    "P_units = 'atm'\n",
    "\n",
    "problem.setPressure(P_iter, P_units)\n",
    "\n",
    "m_units = 'g'\n",
    "    \n",
    "problem.add(solvent, m_solvent, m_units)\n",
    "\n",
    "problem.add(solute, m_solute, m_units)\n",
    "\n",
    "problem.add(inert, n_inert, n_units)\n",
    "\n",
    "\n",
    "state = ChemicalState(system)\n"
   ]
  },
  {
   "cell_type": "code",
   "execution_count": 10,
   "metadata": {},
   "outputs": [
    {
     "name": "stdout",
     "output_type": "stream",
     "text": [
      "234.6729619584932\n",
      "1.2625529563901141\n",
      "934.068273064883\n",
      "465.1134438048949\n",
      "230.93613715045112\n"
     ]
    }
   ],
   "source": [
    "#Set up the PVT algorithm\n",
    "\n",
    "maxiter = 100\n",
    "tolerance = 1e-6\n",
    "\n",
    "\n",
    "\n",
    "for k in range(maxiter):\n",
    "\n",
    "\n",
    "    problem.setPressure(P_iter, P_units)\n",
    "    solver = EquilibriumSolver(system)\n",
    "    solver.solve(state, problem)  # Initial equilibrium calculation\n",
    "    properties = solver.properties()\n",
    "    volume = properties.volume()\n",
    "    igaseous = system.indexPhase(\"Gaseous\");\n",
    "    V_gas = properties.phaseVolumes().val[igaseous];\n",
    "    volume = properties.volume()\n",
    "    V_iter = volume.val\n",
    "    P_iter =  P_iter * ( 1 + (V_iter - V_cooker_m3) / V_gas )\n",
    "\n",
    "    if abs(V_iter - V_cooker_m3) < tolerance:\n",
    "        break    \n",
    "    assert k < maxiter\n",
    "    \n",
    "    print(V_iter*1000)"
   ]
  },
  {
   "cell_type": "code",
   "execution_count": 18,
   "metadata": {},
   "outputs": [
    {
     "name": "stdout",
     "output_type": "stream",
     "text": [
      "For a total volume of 2.0 L, the exerted pressure is 5.0 atm, and the gas occupies a volume of 1.6 L\n"
     ]
    }
   ],
   "source": [
    "print('For a total volume of', \"{:.1f}\".format(V_iter*1e3), 'L, the exerted pressure is', \"{:.1f}\".format(P_iter), 'atm, and the gas occupies a volume of', \"{:.1f}\".format(V_gas*1e3), 'L')"
   ]
  },
  {
   "cell_type": "code",
   "execution_count": 12,
   "metadata": {},
   "outputs": [
    {
     "data": {
      "text/html": [
       "<img src=\"https://upload.wikimedia.org/wikipedia/commons/1/1e/Pressure_cooker_clip_art.png\" width=\"600\"/>"
      ],
      "text/plain": [
       "<IPython.core.display.Image object>"
      ]
     },
     "execution_count": 12,
     "metadata": {},
     "output_type": "execute_result"
    }
   ],
   "source": [
    "Image(url= \"https://upload.wikimedia.org/wikipedia/commons/1/1e/Pressure_cooker_clip_art.png\", width = 600)"
   ]
  },
  {
   "cell_type": "code",
   "execution_count": 13,
   "metadata": {},
   "outputs": [
    {
     "data": {
      "text/html": [
       "<a href=\"https://www.linkedin.com/in/enrique-garcia-franco/?locale=en_US\">Add me on LinkedIn</a>"
      ],
      "text/plain": [
       "<IPython.core.display.HTML object>"
      ]
     },
     "metadata": {},
     "output_type": "display_data"
    }
   ],
   "source": [
    "display(HTML(\"\"\"<a href=\"https://www.linkedin.com/in/enrique-garcia-franco/?locale=en_US\">Add me on LinkedIn</a>\"\"\"))"
   ]
  },
  {
   "cell_type": "code",
   "execution_count": 14,
   "metadata": {},
   "outputs": [
    {
     "data": {
      "text/html": [
       "<a href=\"https://www.youtube.com/channel/UCe8g_55ohp2DYdUhtgsntXA\">Follow my videos on YouTube</a>"
      ],
      "text/plain": [
       "<IPython.core.display.HTML object>"
      ]
     },
     "metadata": {},
     "output_type": "display_data"
    }
   ],
   "source": [
    "display(HTML(\"\"\"<a href=\"https://www.youtube.com/channel/UCe8g_55ohp2DYdUhtgsntXA\">Follow my videos on YouTube</a>\"\"\"))"
   ]
  },
  {
   "cell_type": "code",
   "execution_count": 15,
   "metadata": {},
   "outputs": [
    {
     "data": {
      "text/html": [
       "<img src=\"https://d3e4mgdhax5r7d.cloudfront.net/uploads/photos/users/31b9c974-2c3e-421f-b213-2277a4c9699f/thumb300_Profesional_sacada_de__LinkedIn.jpeg\" width=\"600\"/>"
      ],
      "text/plain": [
       "<IPython.core.display.Image object>"
      ]
     },
     "execution_count": 15,
     "metadata": {},
     "output_type": "execute_result"
    }
   ],
   "source": [
    "Image(url= \"https://d3e4mgdhax5r7d.cloudfront.net/uploads/photos/users/31b9c974-2c3e-421f-b213-2277a4c9699f/thumb300_Profesional_sacada_de__LinkedIn.jpeg\", width = 600)"
   ]
  },
  {
   "cell_type": "code",
   "execution_count": null,
   "metadata": {},
   "outputs": [],
   "source": []
  }
 ],
 "metadata": {
  "kernelspec": {
   "display_name": "Python 3",
   "language": "python",
   "name": "python3"
  },
  "language_info": {
   "codemirror_mode": {
    "name": "ipython",
    "version": 3
   },
   "file_extension": ".py",
   "mimetype": "text/x-python",
   "name": "python",
   "nbconvert_exporter": "python",
   "pygments_lexer": "ipython3",
   "version": "3.8.5"
  }
 },
 "nbformat": 4,
 "nbformat_minor": 4
}
