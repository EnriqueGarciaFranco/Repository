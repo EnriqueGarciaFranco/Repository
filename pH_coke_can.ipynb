{
 "cells": [
  {
   "cell_type": "code",
   "execution_count": 1,
   "metadata": {},
   "outputs": [],
   "source": [
    "from reaktoro import *\n",
    "\n",
    "from numpy import linspace,zeros,append\n",
    "\n",
    "import matplotlib.pyplot as plt\n",
    "\n",
    "from IPython.core.display import display, HTML, Image  "
   ]
  },
  {
   "cell_type": "markdown",
   "metadata": {},
   "source": [
    "__'WHAT IS THE pH INSIDE A COKE CAN?__\n",
    "\n",
    "__ENRIQUE GARCIA FRANCO'__\n"
   ]
  },
  {
   "cell_type": "code",
   "execution_count": 2,
   "metadata": {},
   "outputs": [
    {
     "data": {
      "text/html": [
       "<img src=\"https://freevector-images.s3.amazonaws.com/uploads/vector/preview/31728/32501_bigcoke.jpg\" width=\"600\"/>"
      ],
      "text/plain": [
       "<IPython.core.display.Image object>"
      ]
     },
     "execution_count": 2,
     "metadata": {},
     "output_type": "execute_result"
    }
   ],
   "source": [
    "\n",
    "Image(url= \"https://freevector-images.s3.amazonaws.com/uploads/vector/preview/31728/32501_bigcoke.jpg\", width = 600)"
   ]
  },
  {
   "cell_type": "markdown",
   "metadata": {},
   "source": [
    "__SYSTEM DEFINITION: species, loading, room temperature and pressure__\n",
    "\n",
    "_The can coke is closed to the surroundings and the gases exert pressure on the walls of the container_"
   ]
  },
  {
   "cell_type": "code",
   "execution_count": 3,
   "metadata": {},
   "outputs": [],
   "source": [
    "acid = 'CO2'\n",
    "solvent = 'H2O'"
   ]
  },
  {
   "cell_type": "code",
   "execution_count": 4,
   "metadata": {},
   "outputs": [
    {
     "name": "stdout",
     "output_type": "stream",
     "text": [
      "Typically, a 330 mL coke of classica can contains 150 grams of CO2 and 0.7 grams of Phosporic Acid\n"
     ]
    },
    {
     "data": {
      "text/html": [
       "<a href=\"https://www.theguardian.com/environment/2009/mar/09/coke-carbon-footprint-innocent-smoothie\">external_reference_1</a>"
      ],
      "text/plain": [
       "<IPython.core.display.HTML object>"
      ]
     },
     "metadata": {},
     "output_type": "display_data"
    },
    {
     "data": {
      "text/html": [
       "<a href=\"https://chem.libretexts.org/Ancillary_Materials/Exemplars_and_Case_Studies/Exemplars/Foods/Polyprotic_Acids_and_Bases_in_Cola_Drinks\">external_reference_2</a>"
      ],
      "text/plain": [
       "<IPython.core.display.HTML object>"
      ]
     },
     "metadata": {},
     "output_type": "display_data"
    }
   ],
   "source": [
    "m_CO2 = 150 #g CO2\n",
    "\n",
    "m_H3PO4 = 0.7 #g H3PO4\n",
    "\n",
    "V_aqueous =  330 #mL\n",
    "\n",
    "print('Typically, a', V_aqueous, 'mL coke of classica can contains', m_CO2, 'grams of CO2 and' , m_H3PO4, 'grams of Phosporic Acid')\n",
    "\n",
    "display(HTML(\"\"\"<a href=\"https://www.theguardian.com/environment/2009/mar/09/coke-carbon-footprint-innocent-smoothie\">external_reference_1</a>\"\"\"))\n",
    "\n",
    "display(HTML(\"\"\"<a href=\"https://chem.libretexts.org/Ancillary_Materials/Exemplars_and_Case_Studies/Exemplars/Foods/Polyprotic_Acids_and_Bases_in_Cola_Drinks\">external_reference_2</a>\"\"\"))\n"
   ]
  },
  {
   "cell_type": "code",
   "execution_count": 5,
   "metadata": {},
   "outputs": [
    {
     "name": "stdout",
     "output_type": "stream",
     "text": [
      "The molecular weight of the pure solvent is 18.01528 g/mol\n"
     ]
    },
    {
     "data": {
      "text/html": [
       "<a href=\"https://www.webqc.org/molecular-weight-of-H2O.html\">external_reference</a>"
      ],
      "text/plain": [
       "<IPython.core.display.HTML object>"
      ]
     },
     "metadata": {},
     "output_type": "display_data"
    }
   ],
   "source": [
    "MW_solvent = 18.01528 #g/mol\n",
    "\n",
    "print('The molecular weight of the pure solvent is', MW_solvent, 'g/mol')\n",
    "display(HTML(\"\"\"<a href=\"https://www.webqc.org/molecular-weight-of-H2O.html\">external_reference</a>\"\"\"))"
   ]
  },
  {
   "cell_type": "code",
   "execution_count": 6,
   "metadata": {},
   "outputs": [
    {
     "name": "stdout",
     "output_type": "stream",
     "text": [
      "The density of the aqueous phase is 0.97 g/mL\n"
     ]
    },
    {
     "data": {
      "text/html": [
       "<a href=\"http://web.physics.ucsb.edu/~lecturedemonstrations/Composer/Pages/36.34.html\">external_reference</a>"
      ],
      "text/plain": [
       "<IPython.core.display.HTML object>"
      ]
     },
     "metadata": {},
     "output_type": "display_data"
    }
   ],
   "source": [
    "density_aqueous = 0.97 #g/mL\n",
    "\n",
    "print('The density of the aqueous phase is', density_aqueous, 'g/mL')\n",
    "\n",
    "\n",
    "display(HTML(\"\"\"<a href=\"http://web.physics.ucsb.edu/~lecturedemonstrations/Composer/Pages/36.34.html\">external_reference</a>\"\"\"))"
   ]
  },
  {
   "cell_type": "code",
   "execution_count": 18,
   "metadata": {},
   "outputs": [
    {
     "name": "stdout",
     "output_type": "stream",
     "text": [
      "At room temperature ( 298.15 Kelvin degree) the exerted pressure by the gaseous phase present in the container is 3.39 atm\n"
     ]
    },
    {
     "data": {
      "text/html": [
       "<a href=\"https://chemistry.stackexchange.com/questions/9067/what-is-the-carbon-dioxide-content-of-a-soda-can-or-bottle\">external_reference</a>"
      ],
      "text/plain": [
       "<IPython.core.display.HTML object>"
      ]
     },
     "metadata": {},
     "output_type": "display_data"
    }
   ],
   "source": [
    "T = 25 #C\n",
    "\n",
    "T = T + 273.15 #K\n",
    "\n",
    "P = 3.39 #atm\n",
    "\n",
    "print('At room temperature (', T, 'Kelvin degree)', 'the exerted pressure by the gaseous phase present in the container is' , P, 'atm')\n",
    "\n",
    "display(HTML(\"\"\"<a href=\"https://chemistry.stackexchange.com/questions/9067/what-is-the-carbon-dioxide-content-of-a-soda-can-or-bottle\">external_reference</a>\"\"\"))\n",
    "\n"
   ]
  },
  {
   "cell_type": "code",
   "execution_count": 8,
   "metadata": {},
   "outputs": [
    {
     "name": "stdout",
     "output_type": "stream",
     "text": [
      "If all gas is assumed to be present in the gas phase as a result of the H3PO4 common ion effect, there are 319.4 grams of solvent (assumed as pure H2O) present\n"
     ]
    }
   ],
   "source": [
    "m_solvent = (V_aqueous * density_aqueous - m_H3PO4)\n",
    "\n",
    "print('If all gas is assumed to be present in the gas phase as a result of the H3PO4 common ion effect, there are', m_solvent, 'grams of solvent (assumed as pure H2O) present')"
   ]
  },
  {
   "cell_type": "markdown",
   "metadata": {},
   "source": [
    "__EQUILIBRUM CALCULATION__\n",
    "\n",
    "_To solve for the system defined before, it is necessary to definde the problem and solve for the combination of Temperature, Reference Exerted Pressure_\n",
    "\n",
    "_Reaktoro will then minimize Gibbs Free Energy of the system_"
   ]
  },
  {
   "cell_type": "code",
   "execution_count": 9,
   "metadata": {},
   "outputs": [],
   "source": [
    "#Initialize a thermodynamic database\n",
    "    \n",
    "db = Database('supcrt98.xml')"
   ]
  },
  {
   "cell_type": "code",
   "execution_count": 10,
   "metadata": {},
   "outputs": [
    {
     "data": {
      "text/plain": [
       "<reaktoro.PyReaktoro.GaseousPhase at 0x1f7fe6c7230>"
      ]
     },
     "execution_count": 10,
     "metadata": {},
     "output_type": "execute_result"
    }
   ],
   "source": [
    "#Define the chemical system\n",
    "\n",
    "editor = ChemicalEditor(db)\n",
    "    \n",
    "editor.addAqueousPhase(\"CO2(aq) HCO3- CO3-- H2O(l) H+ OH- H3PO4(aq) H2PO4- HPO4-- PO4---\")\n",
    "    \n",
    "editor.addGaseousPhase(\"CO2(g) H2O(g)\")"
   ]
  },
  {
   "cell_type": "code",
   "execution_count": 11,
   "metadata": {},
   "outputs": [
    {
     "data": {
      "text/plain": [
       "<reaktoro.PyReaktoro.EquilibriumProblem at 0x1f7fe6ce1b0>"
      ]
     },
     "execution_count": 11,
     "metadata": {},
     "output_type": "execute_result"
    }
   ],
   "source": [
    "#Construct the chemical system\n",
    "    \n",
    "system = ChemicalSystem(editor)\n",
    "    \n",
    "    \n",
    "# Define the chemical equilibrium problem\n",
    "\n",
    "problem = EquilibriumProblem(system)\n",
    "    \n",
    "problem.setTemperature(T, 'K')\n",
    "    \n",
    "problem.setPressure(P, 'atm')\n",
    "    \n",
    "problem.add('CO2', m_CO2, 'g')\n",
    "\n",
    "problem.add('H3PO4', m_H3PO4, 'g')\n",
    "\n",
    "problem.add('H2O', m_solvent, 'g')\n"
   ]
  },
  {
   "cell_type": "code",
   "execution_count": 12,
   "metadata": {},
   "outputs": [],
   "source": [
    "#Calculate the chemical equilibrium state\n",
    "    \n",
    "state = equilibrate(problem)"
   ]
  },
  {
   "cell_type": "code",
   "execution_count": 13,
   "metadata": {},
   "outputs": [
    {
     "name": "stdout",
     "output_type": "stream",
     "text": [
      "Our simplied calculation estimate that the  pH inside the coke can is 2.039186148467918\n",
      "The pH read on a reference is 2.3\n",
      "Assuming the aqueous phase behaves as an ideal liquid, the concentration of protons as calculated here is 0.009137215157534462 M. By reading the reference, it would be, 0.005011872336272725 M\n"
     ]
    },
    {
     "data": {
      "text/html": [
       "<a href=\"https://visaya.solutions/en/article/ph-of-coca-cola\">Reference_coke</a>"
      ],
      "text/plain": [
       "<IPython.core.display.HTML object>"
      ]
     },
     "metadata": {},
     "output_type": "display_data"
    }
   ],
   "source": [
    "#Output the calculated chemical state to a file\n",
    "    \n",
    "properties = state.properties()\n",
    "    \n",
    "evaluate_pH = ChemicalProperty.pH(system)\n",
    "    \n",
    "pH = evaluate_pH(properties)\n",
    "    \n",
    "pH_val = pH.val\n",
    "\n",
    "volume = properties.volume()\n",
    "\n",
    "volume_val = volume.val * 1e3 #mL\n",
    "\n",
    "proton_RT = 10**(-pH_val)\n",
    "\n",
    "proton_ref = 10**(-2.3)\n",
    "\n",
    "print('Our simplied calculation estimate that the  pH inside the coke can is' , pH_val)\n",
    "\n",
    "print('The pH read on a reference is 2.3')\n",
    "\n",
    "proton_RK = 10**(-pH_val) #mM\n",
    "\n",
    "proton_ref = 10**(-2.3) #M\n",
    "\n",
    "print('Assuming the aqueous phase behaves as an ideal liquid, the concentration of protons as calculated here is', proton_RK, 'M. By reading the reference, it would be,', proton_ref, 'M')\n",
    "\n",
    "display(HTML(\"\"\"<a href=\"https://visaya.solutions/en/article/ph-of-coca-cola\">Reference_coke</a>\"\"\"))\n",
    "\n"
   ]
  },
  {
   "cell_type": "code",
   "execution_count": 14,
   "metadata": {},
   "outputs": [
    {
     "data": {
      "text/html": [
       "<a href=\"https://www.linkedin.com/in/enrique-garcia-franco/?locale=en_US\">Add me on LinkedIn</a>"
      ],
      "text/plain": [
       "<IPython.core.display.HTML object>"
      ]
     },
     "metadata": {},
     "output_type": "display_data"
    }
   ],
   "source": [
    "display(HTML(\"\"\"<a href=\"https://www.linkedin.com/in/enrique-garcia-franco/?locale=en_US\">Add me on LinkedIn</a>\"\"\"))"
   ]
  },
  {
   "cell_type": "code",
   "execution_count": 15,
   "metadata": {},
   "outputs": [
    {
     "data": {
      "text/html": [
       "<a href=\"https://www.youtube.com/channel/UCe8g_55ohp2DYdUhtgsntXA\">Follow my videos on YouTube</a>"
      ],
      "text/plain": [
       "<IPython.core.display.HTML object>"
      ]
     },
     "metadata": {},
     "output_type": "display_data"
    }
   ],
   "source": [
    "display(HTML(\"\"\"<a href=\"https://www.youtube.com/channel/UCe8g_55ohp2DYdUhtgsntXA\">Follow my videos on YouTube</a>\"\"\"))"
   ]
  },
  {
   "cell_type": "code",
   "execution_count": null,
   "metadata": {},
   "outputs": [],
   "source": []
  }
 ],
 "metadata": {
  "kernelspec": {
   "display_name": "Python 3",
   "language": "python",
   "name": "python3"
  },
  "language_info": {
   "codemirror_mode": {
    "name": "ipython",
    "version": 3
   },
   "file_extension": ".py",
   "mimetype": "text/x-python",
   "name": "python",
   "nbconvert_exporter": "python",
   "pygments_lexer": "ipython3",
   "version": "3.8.5"
  }
 },
 "nbformat": 4,
 "nbformat_minor": 4
}
